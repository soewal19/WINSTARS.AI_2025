{
 "cells": [
  {
   "cell_type": "markdown",
   "metadata": {},
   "source": [
    "# MNIST Demo Notebook\\nRun src/task1/train_mnist.py --algo cnn"
   ]
  },
  {
   "cell_type": "code",
   "execution_count": null,
   "metadata": {},
   "outputs": [],
   "source": [
    "print('MNIST demo placeholder')"
   ]
  },
  {
   "cell_type": "code",
   "execution_count": null,
   "metadata": {},
   "outputs": [],
   "source": [
    "# Необходимо импортировать MnistClassifier из вашего нового файла\n",
    "# from mnist_classifiers import MnistClassifier \n",
    "\n",
    "import numpy as np\n",
    "import matplotlib.pyplot as plt\n",
    "from tensorflow import keras\n",
    "from tensorflow.keras.datasets import mnist\n",
    "\n",
    "# Загрузка и предобработка данных\n",
    "(x_train, y_train), (x_test, y_test) = mnist.load_data()\n",
    "\n",
    "# Масштабирование данных в диапазон 0-1\n",
    "x_train = x_train / 255.0\n",
    "x_test = x_test / 255.0\n",
    "\n",
    "print(f\"Размер обучающего набора: {x_train.shape}\")\n",
    "print(f\"Размер тестового набора: {x_test.shape}\")\n",
    "\n",
    "# 1. Random Forest Classifier\n",
    "print(\"\\n--- 1. Random Forest Classifier ---\")\n",
    "# n_estimators=150 и n_jobs=-1 передаются как **kwargs в конструктор RFClassifier\n",
    "random_forest = MnistClassifier('rf', n_estimators=150, n_jobs=-1, verbose=0) \n",
    "random_forest.train(x_train, y_train) \n",
    "\n",
    "rf_predictions = random_forest.predict(x_test)\n",
    "rf_accuracy = np.mean(rf_predictions == y_test)\n",
    "print(f\"Предсказания Random Forest (первые 10): {rf_predictions[:10]}\")\n",
    "print(f\"Точность Random Forest: {rf_accuracy * 100:.2f}%\")\n",
    "\n",
    "# 2. Fully Connected Neural Network\n",
    "print(\"\\n--- 2. Fully Connected Neural Network (FNN) ---\")\n",
    "callback = keras.callbacks.EarlyStopping(\n",
    "    monitor='val_accuracy', mode='max', patience=2, \n",
    "    restore_best_weights=True, start_from_epoch=3, verbose=1\n",
    ")\n",
    "feedforwad_neural_network = MnistClassifier('nn')\n",
    "\n",
    "# Параметры Keras (batch_size, epochs, callbacks, validation_data) передаются через **kwargs\n",
    "feedforwad_neural_network.train(\n",
    "    x_train, y_train, \n",
    "    batch_size=256, \n",
    "    validation_data=(x_test, y_test), \n",
    "    epochs=20, \n",
    "    callbacks=[callback], \n",
    "    verbose=1\n",
    ")\n",
    "\n",
    "nn_predictions = feedforwad_neural_network.predict(x_test, verbose=0)\n",
    "nn_accuracy = np.mean(nn_predictions == y_test)\n",
    "print(f\"Точность Feed-forward Neural Network: {nn_accuracy * 100:.2f}%\")\n",
    "\n",
    "# 3. Convolutional Neural Network\n",
    "print(\"\\n--- 3. Convolutional Neural Network (CNN) ---\")\n",
    "cnn = MnistClassifier('cnn')\n",
    "\n",
    "# Параметры Keras передаются через **kwargs\n",
    "cnn.train(\n",
    "    x_train, y_train, \n",
    "    batch_size=256, \n",
    "    validation_data=(x_test, y_test), \n",
    "    epochs=5, \n",
    "    callbacks=[callback], \n",
    "    verbose=1\n",
    ")\n",
    "\n",
    "cnn_predictions = cnn.predict(x_test, verbose=0)\n",
    "cnn_accuracy = np.mean(cnn_predictions == y_test)\n",
    "print(f\"Точность Convolutional Neural Network: {cnn_accuracy * 100:.2f}%\")\n",
    "\n",
    "# Дополнительный вывод для демонстрации Edge Cases\n",
    "# (Предполагается, что папка 'mnist_edge_cases' существует)\n",
    "# ... (код для обработки edge cases из вашего примера)"
   ]
  },
  {
   "cell_type": "markdown",
   "metadata": {},
   "source": []
  }
 ],
 "metadata": {
  "language_info": {
   "name": "python"
  }
 },
 "nbformat": 4,
 "nbformat_minor": 2
}
